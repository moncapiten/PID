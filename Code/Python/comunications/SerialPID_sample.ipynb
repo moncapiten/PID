{
 "cells": [
  {
   "cell_type": "markdown",
   "metadata": {},
   "source": [
    "# Appunti per comunicazione\n",
    "\n",
    "* `$V` versione\n",
    "* `$R0` set-point\n",
    "* `$R1` parametro P\n",
    "* `$R2` parametro I\n",
    "* `$R3` parametro D\n",
    "* `$W` RUN\n",
    "* `$Q` STOP"
   ]
  },
  {
   "cell_type": "code",
   "execution_count": null,
   "metadata": {},
   "outputs": [
    {
     "name": "stdout",
     "output_type": "stream",
     "text": [
      "+2.011464e+01\n",
      "\n"
     ]
    }
   ],
   "source": [
    "import serial\n",
    "import time\n",
    "\n",
    "ser = serial.Serial()\n",
    "ser.port = \"COM7\"\n",
    "ser.baudrate = 115200\n",
    "ser.timeout = 1\n",
    "ser.rts = False\n",
    "ser.dtr = False\n",
    "ser.open()\n",
    "\n",
    "def query(message, flagR=True, flagW=True):\n",
    "    if flagW:    \n",
    "        message += '\\n\\r'\n",
    "        ser.write(message.encode('utf-8'))\n",
    "    if flagR:\n",
    "        res = ser.readline().decode()\n",
    "        return res\n",
    "    \n",
    "print(query(\"$R100?\"))\n",
    "\n",
    "time.sleep(1)\n",
    "ser.close()\n",
    "\n"
   ]
  }
 ],
 "metadata": {
  "kernelspec": {
   "display_name": "Python 3",
   "language": "python",
   "name": "python3"
  },
  "language_info": {
   "codemirror_mode": {
    "name": "ipython",
    "version": 3
   },
   "file_extension": ".py",
   "mimetype": "text/x-python",
   "name": "python",
   "nbconvert_exporter": "python",
   "pygments_lexer": "ipython3",
   "version": "3.12.6"
  }
 },
 "nbformat": 4,
 "nbformat_minor": 2
}
