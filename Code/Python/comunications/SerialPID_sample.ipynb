{
 "cells": [
  {
   "cell_type": "markdown",
   "metadata": {},
   "source": [
    "# Appunti per comunicazione\n",
    "\n",
    "* `$V` versione\n",
    "* `$R0` set-point\n",
    "* `$R1` parametro P\n",
    "* `$R2` parametro I\n",
    "* `$R3` parametro D\n",
    "* `$W` RUN\n",
    "* `$Q` STOP"
   ]
  },
  {
   "cell_type": "code",
   "execution_count": null,
   "metadata": {},
   "outputs": [
    {
     "name": "stdout",
     "output_type": "stream",
     "text": [
      "SC_v2.9\n",
      "\n"
     ]
    }
   ],
   "source": [
    "import serial\n",
    "import time\n",
    "import numpy as np\n",
    "\n",
    "# to remove werid behavior where data polling gets slower when plot window is not in focus\n",
    "# https://stackoverflow.com/questions/1023038/change-process-priority-in-python-cross-platform\n",
    "import psutil, os, sys\n",
    "#p.nice(psutil.HIGH_PRIORITY_CLASS)\n",
    "# os.nice(-10) # for linux/macOS\n",
    "\n",
    "p = psutil.Process(os.getpid())\n",
    "os_used = sys.platform\n",
    "if os_used == \"win32\":  # Windows (either 32-bit or 64-bit)\n",
    "    p.nice(psutil.REALTIME_PRIORITY_CLASS)\n",
    "elif os_used == \"linux\":  # linux\n",
    "    p.nice(psutil.IOPRIO_HIGH)\n",
    "else:  # MAC OS X or other\n",
    "    p.nice(-20)  \n",
    "\n",
    "\n",
    "\n",
    "ser = serial.Serial()\n",
    "ser.port = \"COM7\"\n",
    "ser.baudrate = 115200   \n",
    "ser.timeout = 1\n",
    "ser.rts = False\n",
    "ser.dtr = False\n",
    "ser.open()\n",
    "\n",
    "def query(message, flagR=True, flagW=True):\n",
    "    if flagW:    \n",
    "        message += '\\n\\r'\n",
    "        ser.write(message.encode('utf-8'))\n",
    "        res = ser.readline().decode()\n",
    "    if flagR:\n",
    "        res = ser.readline().decode()\n",
    "        return res\n",
    "    \n",
    "print(query(\"$V?\"))\n",
    "\n",
    "time.sleep(1)\n",
    "\n"
   ]
  },
  {
   "cell_type": "code",
   "execution_count": null,
   "metadata": {},
   "outputs": [
    {
     "name": "stdout",
     "output_type": "stream",
     "text": [
      "\n",
      "\n",
      "NOT YET IMPLEMENTED\n",
      "\n",
      "\n"
     ]
    }
   ],
   "source": [
    "import matplotlib\n",
    "matplotlib.use('TkAgg')\n",
    "import matplotlib.pyplot as plt \n",
    "\n",
    "\n",
    "# -[Funzioni di gestione eventi]-----------------------------------------------\n",
    "global temp\n",
    "temp = []\n",
    "def on_close(event):\n",
    "    global flag_run\n",
    "    flag_run = False\n",
    "def on_key(event):\n",
    "    global flag_run\n",
    "    global flag_acq\n",
    "\n",
    "    if event.key == 'x':  # => export su file\n",
    "        print(\"NOT YET IMPLEMENTED\")\n",
    "        filename = input(\"Esporta dati su file: \")\n",
    "        dataposition = '../../../Data/'\n",
    "        data = np.column_stack((np.arange(0, len(temp)), temp))\n",
    "        info = \"# Data acquired from temp PID controller on \"+time.strftime(\"%Y-%m-%d %H:%M:%S\")+\"\\n\"\n",
    "        info += \"# Data format: [Sample, Temperature [°C]]\\n\"\n",
    "        np.savetxt(dataposition+filename+'.txt', data, delimiter='\\t', header=info)\n",
    "\n",
    "    if event.key == 'c':  # => send command to scope\n",
    "        message = input(\">> \")\n",
    "        print(query(message))\n",
    "\n",
    "    if event.key == ' ':  # => run/pausa misura\n",
    "        flag_acq = not flag_acq\n",
    "\n",
    "    if event.key == 'escape':  # => esci dalla misura\n",
    "        flag_run = False\n",
    "\n",
    "'''\n",
    "###    HIGHLY DANGEROUS - DO NOT BE A SILLY GOOSE\n",
    "    if event.key == 'e':  # ⇒ erase all previous data\n",
    "        temp = []'\n",
    "'''\n",
    "\n",
    "    \n",
    "\n",
    "# -[Ciclo di misura]-----------------------------------------------------------\n",
    "fig, ax = plt.subplots(figsize=(12,6))\n",
    "fig.canvas.mpl_connect(\"close_event\", on_close)\n",
    "fig.canvas.mpl_connect('key_press_event', on_key)\n",
    "flag_run = True\n",
    "flag_acq = True\n",
    "flag_first = True\n",
    "while flag_run:\n",
    "    if flag_acq: # l'acquisizione è attiva?\n",
    "        temp.append(float(query(\"$R100?\")))\n",
    "    # Visualizzazione\n",
    "    if flag_first:\n",
    "        flag_first = False\n",
    "        hp1, = plt.plot(np.arange(0, len(temp)), temp, \"-\", label=\"Ch1\", color=\"tab:orange\")\n",
    "#        hp2, = plt.plot(scope.time.vals, scope.ch2.vals, \"-\", label=\"Ch2\", color=\"tab:blue\")\n",
    "        plt.legend()\n",
    "        plt.grid(True)\n",
    "        plt.xlabel(\"Sample\", fontsize=15)\n",
    "        plt.ylabel(\"Temperature [°C]\", fontsize=15)\n",
    "        plt.title(\"User interaction: x|space|escape\")\n",
    "        plt.tight_layout()\n",
    "        plt.show(block = False)\n",
    "\n",
    "    else:\n",
    "        ax.clear()\n",
    "        ax.plot(np.arange(0, len(temp)), temp, \"-\", label=\"Block Temperature\", color=\"tab:orange\")\n",
    "#            ax.plot(scope.time.vals, scope.ch2.vals, \"-\", label=\"Ch2(y)\", color=\"tab:blue\")\n",
    "\n",
    "        ax.annotate(f\"RealTime Temperature: {temp[-1]:.2f}\", (0.98,0.1), xycoords='axes fraction', fontsize=15)\n",
    "        \n",
    "\n",
    "        ax.set_title(\"User interaction: x|c|space|escape|e(DONT BE SILLY, GOOSE)\")\n",
    "        ax.legend()\n",
    "        ax.grid(True)\n",
    "\n",
    "        fig.canvas.draw()\n",
    "        fig.canvas.flush_events()"
   ]
  },
  {
   "cell_type": "code",
   "execution_count": 34,
   "metadata": {},
   "outputs": [],
   "source": [
    "ser.close()"
   ]
  }
 ],
 "metadata": {
  "kernelspec": {
   "display_name": "Python 3",
   "language": "python",
   "name": "python3"
  },
  "language_info": {
   "codemirror_mode": {
    "name": "ipython",
    "version": 3
   },
   "file_extension": ".py",
   "mimetype": "text/x-python",
   "name": "python",
   "nbconvert_exporter": "python",
   "pygments_lexer": "ipython3",
   "version": "3.12.6"
  }
 },
 "nbformat": 4,
 "nbformat_minor": 2
}
