{
 "cells": [
  {
   "cell_type": "code",
   "execution_count": 8,
   "metadata": {},
   "outputs": [
    {
     "ename": "ModuleNotFoundError",
     "evalue": "No module named 'pyserial'",
     "output_type": "error",
     "traceback": [
      "\u001b[1;31m---------------------------------------------------------------------------\u001b[0m",
      "\u001b[1;31mModuleNotFoundError\u001b[0m                       Traceback (most recent call last)",
      "Cell \u001b[1;32mIn[8], line 1\u001b[0m\n\u001b[1;32m----> 1\u001b[0m \u001b[38;5;28;01mimport\u001b[39;00m \u001b[38;5;21;01mpyserial\u001b[39;00m\n\u001b[0;32m      2\u001b[0m \u001b[38;5;28;01mimport\u001b[39;00m \u001b[38;5;21;01mnumpy\u001b[39;00m \u001b[38;5;28;01mas\u001b[39;00m \u001b[38;5;21;01mnp\u001b[39;00m\n\u001b[0;32m      3\u001b[0m \u001b[38;5;28;01mimport\u001b[39;00m \u001b[38;5;21;01mmatplotlib\u001b[39;00m\u001b[38;5;21;01m.\u001b[39;00m\u001b[38;5;21;01mpyplot\u001b[39;00m \u001b[38;5;28;01mas\u001b[39;00m \u001b[38;5;21;01mplt\u001b[39;00m\n",
      "\u001b[1;31mModuleNotFoundError\u001b[0m: No module named 'pyserial'"
     ]
    }
   ],
   "source": [
    "import pyserial\n",
    "import numpy as np\n",
    "import matplotlib.pyplot as plt\n",
    "\n",
    "\n",
    "\n",
    "def read_serial_data(port, baudrate, num_samples):\n",
    "    # Open the serial port\n",
    "    ser = serial.Serial(port, baudrate)\n",
    "    \n",
    "    # Read data from the serial port\n",
    "    data = []\n",
    "    for _ in range(num_samples):\n",
    "        line = ser.readline().decode('utf-8').strip()\n",
    "        if line:\n",
    "            try:\n",
    "                value = float(line)\n",
    "                data.append(value)\n",
    "            except ValueError:\n",
    "                continue  # Ignore lines that cannot be converted to float\n",
    "\n",
    "    # Close the serial port\n",
    "    ser.close()\n",
    "    \n",
    "    return np.array(data)\n",
    "\n",
    "\n",
    "def write_serial(port, baudrate, data):\n",
    "    # Open the serial port\n",
    "    ser = serial.Serial(port, baudrate)\n",
    "    \n",
    "    # Write data to the serial port\n",
    "    for value in data:\n",
    "        ser.write(f\"{value}\\n\".encode('utf-8'))\n",
    "    \n",
    "    # Close the serial port\n",
    "    ser.close()\n",
    "\n",
    "COM = 'COM7'\n",
    "BAUDRATE = 115200\n",
    "\n",
    "write_serial(COM, BAUDRATE, \"$V\")\n",
    "aa = read_serial_data(COM, BAUDRATE, 1)\n",
    "print(aa)\n",
    "#write_serial(COM, BAUDRATE, [1, 2, 3, 4, 5])"
   ]
  },
  {
   "cell_type": "code",
   "execution_count": null,
   "metadata": {},
   "outputs": [
    {
     "name": "stdout",
     "output_type": "stream",
     "text": [
      "Enter your commands below.\n",
      "Insert \"exit\" to leave the application.\n"
     ]
    },
    {
     "ename": "TypeError",
     "evalue": "unicode strings are not supported, please encode to bytes: '$V\\r\\n'",
     "output_type": "error",
     "traceback": [
      "\u001b[1;31m---------------------------------------------------------------------------\u001b[0m",
      "\u001b[1;31mTypeError\u001b[0m                                 Traceback (most recent call last)",
      "Cell \u001b[1;32mIn[1], line 29\u001b[0m\n\u001b[0;32m     25\u001b[0m     exit()\n\u001b[0;32m     26\u001b[0m \u001b[38;5;28;01melse\u001b[39;00m:\n\u001b[0;32m     27\u001b[0m     \u001b[38;5;66;03m# send the character to the device\u001b[39;00m\n\u001b[0;32m     28\u001b[0m     \u001b[38;5;66;03m# (note that I happend a \\r\\n carriage return and line feed to the characters - this is requested by my device)\u001b[39;00m\n\u001b[1;32m---> 29\u001b[0m     \u001b[43mser\u001b[49m\u001b[38;5;241;43m.\u001b[39;49m\u001b[43mwrite\u001b[49m\u001b[43m(\u001b[49m\u001b[43mdata_input\u001b[49m\u001b[43m \u001b[49m\u001b[38;5;241;43m+\u001b[39;49m\u001b[43m \u001b[49m\u001b[38;5;124;43m'\u001b[39;49m\u001b[38;5;130;43;01m\\r\u001b[39;49;00m\u001b[38;5;130;43;01m\\n\u001b[39;49;00m\u001b[38;5;124;43m'\u001b[39;49m\u001b[43m)\u001b[49m\n\u001b[0;32m     30\u001b[0m     out \u001b[38;5;241m=\u001b[39m \u001b[38;5;124m'\u001b[39m\u001b[38;5;124m'\u001b[39m\n\u001b[0;32m     31\u001b[0m     \u001b[38;5;66;03m# let's wait one second before reading output (let's give device time to answer)\u001b[39;00m\n",
      "File \u001b[1;32mc:\\Users\\monca\\AppData\\Local\\Programs\\Python\\Python312\\Lib\\site-packages\\serial\\serialwin32.py:310\u001b[0m, in \u001b[0;36mSerial.write\u001b[1;34m(self, data)\u001b[0m\n\u001b[0;32m    306\u001b[0m     \u001b[38;5;28;01mraise\u001b[39;00m PortNotOpenError()\n\u001b[0;32m    307\u001b[0m \u001b[38;5;66;03m#~ if not isinstance(data, (bytes, bytearray)):\u001b[39;00m\n\u001b[0;32m    308\u001b[0m     \u001b[38;5;66;03m#~ raise TypeError('expected %s or bytearray, got %s' % (bytes, type(data)))\u001b[39;00m\n\u001b[0;32m    309\u001b[0m \u001b[38;5;66;03m# convert data (needed in case of memoryview instance: Py 3.1 io lib), ctypes doesn't like memoryview\u001b[39;00m\n\u001b[1;32m--> 310\u001b[0m data \u001b[38;5;241m=\u001b[39m \u001b[43mto_bytes\u001b[49m\u001b[43m(\u001b[49m\u001b[43mdata\u001b[49m\u001b[43m)\u001b[49m\n\u001b[0;32m    311\u001b[0m \u001b[38;5;28;01mif\u001b[39;00m data:\n\u001b[0;32m    312\u001b[0m     \u001b[38;5;66;03m#~ win32event.ResetEvent(self._overlapped_write.hEvent)\u001b[39;00m\n\u001b[0;32m    313\u001b[0m     n \u001b[38;5;241m=\u001b[39m win32\u001b[38;5;241m.\u001b[39mDWORD()\n",
      "File \u001b[1;32mc:\\Users\\monca\\AppData\\Local\\Programs\\Python\\Python312\\Lib\\site-packages\\serial\\serialutil.py:65\u001b[0m, in \u001b[0;36mto_bytes\u001b[1;34m(seq)\u001b[0m\n\u001b[0;32m     63\u001b[0m     \u001b[38;5;28;01mreturn\u001b[39;00m seq\u001b[38;5;241m.\u001b[39mtobytes()\n\u001b[0;32m     64\u001b[0m \u001b[38;5;28;01melif\u001b[39;00m \u001b[38;5;28misinstance\u001b[39m(seq, unicode):\n\u001b[1;32m---> 65\u001b[0m     \u001b[38;5;28;01mraise\u001b[39;00m \u001b[38;5;167;01mTypeError\u001b[39;00m(\u001b[38;5;124m'\u001b[39m\u001b[38;5;124municode strings are not supported, please encode to bytes: \u001b[39m\u001b[38;5;132;01m{!r}\u001b[39;00m\u001b[38;5;124m'\u001b[39m\u001b[38;5;241m.\u001b[39mformat(seq))\n\u001b[0;32m     66\u001b[0m \u001b[38;5;28;01melse\u001b[39;00m:\n\u001b[0;32m     67\u001b[0m     \u001b[38;5;66;03m# handle list of integers and bytes (one or more items) for Python 2 and 3\u001b[39;00m\n\u001b[0;32m     68\u001b[0m     \u001b[38;5;28;01mreturn\u001b[39;00m \u001b[38;5;28mbytes\u001b[39m(\u001b[38;5;28mbytearray\u001b[39m(seq))\n",
      "\u001b[1;31mTypeError\u001b[0m: unicode strings are not supported, please encode to bytes: '$V\\r\\n'"
     ]
    }
   ],
   "source": [
    "import time\n",
    "import serial\n",
    "\n",
    "# configure the serial connections (the parameters differs on the device you are connecting to)\n",
    "ser = serial.Serial(\n",
    "    port='COM7',\n",
    "    baudrate=115200,\n",
    "    parity=serial.PARITY_ODD,\n",
    "    stopbits=serial.STOPBITS_TWO,\n",
    "    bytesize=serial.SEVENBITS\n",
    ")\n",
    "\n",
    "ser.isOpen()\n",
    "\n",
    "print('Enter your commands below.\\r\\nInsert \"exit\" to leave the application.')\n",
    "\n",
    "data_input=''\n",
    "while 1 :\n",
    "    # get keyboard data_input\n",
    "    data_input = input('>> ')\n",
    "        # Python 3 users\n",
    "        # data_input = data_input(\">> \")\n",
    "    if data_input == 'exit':\n",
    "        ser.close()\n",
    "        exit()\n",
    "    else:\n",
    "        # send the character to the device\n",
    "        # (note that I happend a \\r\\n carriage return and line feed to the characters - this is requested by my device)\n",
    "        data_to_send = data_input + '\\r\\n'\n",
    "        data_to_send = data_to_send.encode('utf-8')\n",
    "        ser.write(data_to_send)\n",
    "#        ser.write(data_input + '\\r\\n')\n",
    "        out = ''\n",
    "        # let's wait one second before reading output (let's give device time to answer)\n",
    "        time.sleep(1)\n",
    "        while ser.inWaiting() > 0:\n",
    "            out += ser.read(1)\n",
    "            \n",
    "        if out != '':\n",
    "            print(\">>\" + out)"
   ]
  },
  {
   "cell_type": "code",
   "execution_count": 2,
   "metadata": {},
   "outputs": [],
   "source": [
    "ser.close()  # close port"
   ]
  }
 ],
 "metadata": {
  "kernelspec": {
   "display_name": "base",
   "language": "python",
   "name": "python3"
  },
  "language_info": {
   "codemirror_mode": {
    "name": "ipython",
    "version": 3
   },
   "file_extension": ".py",
   "mimetype": "text/x-python",
   "name": "python",
   "nbconvert_exporter": "python",
   "pygments_lexer": "ipython3",
   "version": "3.12.4"
  }
 },
 "nbformat": 4,
 "nbformat_minor": 2
}
